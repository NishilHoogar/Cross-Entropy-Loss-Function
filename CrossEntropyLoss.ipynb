{
  "nbformat": 4,
  "nbformat_minor": 0,
  "metadata": {
    "colab": {
      "provenance": [],
      "authorship_tag": "ABX9TyNWO9Ja7baFEBlySkDSpsXM"
    },
    "kernelspec": {
      "name": "python3",
      "display_name": "Python 3"
    },
    "language_info": {
      "name": "python"
    }
  },
  "cells": [
    {
      "cell_type": "code",
      "source": [
        "import math\n",
        "\n",
        "input_data = [\n",
        "    (0.25, 1),\n",
        "    (0.23, 0),\n",
        "    (0.45, 1),\n",
        "    (0.69, 0)\n",
        "]\n",
        "\n",
        "def cross_entropy(input_data):\n",
        "    loss = 0\n",
        "    n = len(input_data)\n",
        "\n",
        "    for entry in input_data:\n",
        "        w_sum = entry[0]\n",
        "        y = entry[1]\n",
        "        loss += -(y * math.log10(w_sum) + (1 - y) * math.log10(1 - w_sum))\n",
        "        print(-(y * math.log10(w_sum) + (1 - y) * math.log10(1 - w_sum)))\n",
        "\n",
        "    return loss / n\n",
        "\n",
        "error_term = cross_entropy(input_data)\n",
        "print(error_term)\n"
      ],
      "metadata": {
        "colab": {
          "base_uri": "https://localhost:8080/"
        },
        "id": "Ugktr5Fn5Unm",
        "outputId": "2a47fbdb-ba5c-48e0-8880-e86cee52b8dd"
      },
      "execution_count": 4,
      "outputs": [
        {
          "output_type": "stream",
          "name": "stdout",
          "text": [
            "0.6020599913279624\n",
            "0.11350927482751812\n",
            "0.3467874862246563\n",
            "0.5086383061657272\n",
            "0.392748764636466\n"
          ]
        }
      ]
    }
  ]
}